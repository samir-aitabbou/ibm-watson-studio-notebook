{
 "cells": [
  {
   "cell_type": "markdown",
   "id": "7133a2cb",
   "metadata": {},
   "source": [
    "# My jupyter Notebook on IBM Watson Studio"
   ]
  },
  {
   "cell_type": "markdown",
   "id": "b89a0801",
   "metadata": {},
   "source": [
    "###  AIT-Abbou Samir\n"
   ]
  },
  {
   "cell_type": "markdown",
   "id": "5059a72c",
   "metadata": {},
   "source": [
    "#### I'm interested in data science because i love get insights from data "
   ]
  },
  {
   "cell_type": "markdown",
   "id": "afbb7dc0",
   "metadata": {},
   "source": [
    "## The following code tests  boocle "
   ]
  },
  {
   "cell_type": "code",
   "execution_count": 2,
   "id": "6fc10d44",
   "metadata": {},
   "outputs": [
    {
     "name": "stdout",
     "output_type": "stream",
     "text": [
      "number :0\n",
      "number :1\n",
      "number :2\n",
      "number :3\n",
      "number :4\n"
     ]
    }
   ],
   "source": [
    "for i in range(0,5):\n",
    "    print(\"number :\"+str(i))"
   ]
  },
  {
   "cell_type": "code",
   "execution_count": null,
   "id": "d28f2e54",
   "metadata": {},
   "outputs": [],
   "source": []
  }
 ],
 "metadata": {
  "kernelspec": {
   "display_name": "Python 3 (ipykernel)",
   "language": "python",
   "name": "python3"
  },
  "language_info": {
   "codemirror_mode": {
    "name": "ipython",
    "version": 3
   },
   "file_extension": ".py",
   "mimetype": "text/x-python",
   "name": "python",
   "nbconvert_exporter": "python",
   "pygments_lexer": "ipython3",
   "version": "3.9.7"
  }
 },
 "nbformat": 4,
 "nbformat_minor": 5
}
